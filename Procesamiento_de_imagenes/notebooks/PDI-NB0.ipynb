{
 "nbformat": 4,
 "nbformat_minor": 0,
 "metadata": {
  "colab": {
   "provenance": [],
   "authorship_tag": "ABX9TyPlzaJorveQbctZHfD672Ry"
  },
  "kernelspec": {
   "name": "python3",
   "display_name": "Python 3"
  },
  "language_info": {
   "name": "python"
  }
 },
 "cells": [
  {
   "cell_type": "markdown",
   "source": [
    "## Bibliotecas de procesamiento de imágenes para Python"
   ],
   "metadata": {
    "id": "9NQ8tvc9Z9uH",
    "pycharm": {
     "name": "#%% md\n"
    }
   }
  },
  {
   "cell_type": "code",
   "source": [
    "import numpy as np\n",
    "import cv2\n",
    "import matplotlib.pyplot as plt\n",
    "%matplotlib inline\n",
    "from pylab import imshow, show\n",
    "\n",
    "# reads image 'opencv-logo.png' as grayscale\n",
    "img = cv2.imread('sample_data/img.jpg')\n",
    "\n",
    "print(type(img))\n",
    "print(img.shape)"
   ],
   "metadata": {
    "colab": {
     "base_uri": "https://localhost:8080/"
    },
    "id": "zU_prEkwatzj",
    "executionInfo": {
     "status": "ok",
     "timestamp": 1694816253948,
     "user_tz": 180,
     "elapsed": 900,
     "user": {
      "displayName": "Juan Bajo",
      "userId": "14812284223402771045"
     }
    },
    "outputId": "bef0979e-bbe2-425a-e761-885c6dca6676",
    "pycharm": {
     "name": "#%%\n"
    }
   },
   "execution_count": 1,
   "outputs": [
    {
     "output_type": "stream",
     "name": "stdout",
     "text": [
      "<class 'numpy.ndarray'>\n",
      "(410, 612, 3)\n"
     ]
    }
   ]
  },
  {
   "cell_type": "code",
   "source": [
    "!pip install mahotas"
   ],
   "metadata": {
    "colab": {
     "base_uri": "https://localhost:8080/"
    },
    "id": "NUElCNl7b95f",
    "executionInfo": {
     "status": "ok",
     "timestamp": 1694816550778,
     "user_tz": 180,
     "elapsed": 6471,
     "user": {
      "displayName": "Juan Bajo",
      "userId": "14812284223402771045"
     }
    },
    "outputId": "0e53daf1-7996-4519-fdea-f746ae9dbb99",
    "pycharm": {
     "name": "#%%\n"
    }
   },
   "execution_count": 2,
   "outputs": [
    {
     "output_type": "stream",
     "name": "stdout",
     "text": [
      "Collecting mahotas\n",
      "  Downloading mahotas-1.4.13-cp310-cp310-manylinux_2_17_x86_64.manylinux2014_x86_64.whl (5.4 MB)\n",
      "\u001B[2K     \u001B[90m━━━━━━━━━━━━━━━━━━━━━━━━━━━━━━━━━━━━━━━━\u001B[0m \u001B[32m5.4/5.4 MB\u001B[0m \u001B[31m11.8 MB/s\u001B[0m eta \u001B[36m0:00:00\u001B[0m\n",
      "\u001B[?25hRequirement already satisfied: numpy in /usr/local/lib/python3.10/dist-packages (from mahotas) (1.23.5)\n",
      "Installing collected packages: mahotas\n",
      "Successfully installed mahotas-1.4.13\n"
     ]
    }
   ]
  },
  {
   "cell_type": "code",
   "source": [
    "import numpy as np\n",
    "import mahotas\n",
    "from pylab import imshow, show\n",
    "\n",
    "# loading image\n",
    "img = mahotas.imread('sample_data/img.jpg')\n",
    "\n",
    "print(type(img))\n",
    "print(img.shape)"
   ],
   "metadata": {
    "colab": {
     "base_uri": "https://localhost:8080/"
    },
    "id": "nVp0FTskb7VY",
    "executionInfo": {
     "status": "ok",
     "timestamp": 1694816552998,
     "user_tz": 180,
     "elapsed": 510,
     "user": {
      "displayName": "Juan Bajo",
      "userId": "14812284223402771045"
     }
    },
    "outputId": "11b72060-e539-42c6-b2c0-97a721a381b7",
    "pycharm": {
     "name": "#%%\n"
    }
   },
   "execution_count": 3,
   "outputs": [
    {
     "output_type": "stream",
     "name": "stdout",
     "text": [
      "<class 'numpy.ndarray'>\n",
      "(410, 612, 3)\n"
     ]
    }
   ]
  },
  {
   "cell_type": "code",
   "source": [
    "# Imports PIL module\n",
    "from PIL import Image\n",
    "\n",
    "# open method used to open different extension image file\n",
    "img = Image.open(\"sample_data/img.jpg\")\n",
    "im2arr = np.array(img)\n",
    "\n",
    "print(type(im2arr))\n",
    "print(im2arr.shape)"
   ],
   "metadata": {
    "colab": {
     "base_uri": "https://localhost:8080/"
    },
    "id": "WuReZFgndJ9v",
    "executionInfo": {
     "status": "ok",
     "timestamp": 1694816597701,
     "user_tz": 180,
     "elapsed": 346,
     "user": {
      "displayName": "Juan Bajo",
      "userId": "14812284223402771045"
     }
    },
    "outputId": "39beb239-20ca-4327-95a8-0c9755280612",
    "pycharm": {
     "name": "#%%\n"
    }
   },
   "execution_count": 4,
   "outputs": [
    {
     "output_type": "stream",
     "name": "stdout",
     "text": [
      "<class 'numpy.ndarray'>\n",
      "(410, 612, 3)\n"
     ]
    }
   ]
  },
  {
   "cell_type": "code",
   "source": [
    "import imageio.v3 as iio\n",
    "\n",
    "# https://imageio.readthedocs.io/\n",
    "\n",
    "\n",
    "im1 = iio.imread('sample_data/img.jpg')\n",
    "im2 = iio.imread('imageio:chelsea.png')\n",
    "im3 = iio.imread('https://sample-videos.com/img/Sample-png-image-200kb.png')\n",
    "\n",
    "print(type(im3))\n",
    "print(im3.shape)"
   ],
   "metadata": {
    "colab": {
     "base_uri": "https://localhost:8080/"
    },
    "id": "hRX3fW6YeMzu",
    "executionInfo": {
     "status": "ok",
     "timestamp": 1694816780806,
     "user_tz": 180,
     "elapsed": 2087,
     "user": {
      "displayName": "Juan Bajo",
      "userId": "14812284223402771045"
     }
    },
    "outputId": "d47778c2-ff21-4ac8-aa69-484be89a71a1",
    "pycharm": {
     "name": "#%%\n"
    }
   },
   "execution_count": 7,
   "outputs": [
    {
     "output_type": "stream",
     "name": "stdout",
     "text": [
      "<class 'numpy.ndarray'>\n",
      "(250, 400, 4)\n"
     ]
    }
   ]
  },
  {
   "cell_type": "code",
   "source": [
    "!pip install rasterio"
   ],
   "metadata": {
    "colab": {
     "base_uri": "https://localhost:8080/"
    },
    "id": "tkufpxg6hOAl",
    "executionInfo": {
     "status": "ok",
     "timestamp": 1694816815288,
     "user_tz": 180,
     "elapsed": 9242,
     "user": {
      "displayName": "Juan Bajo",
      "userId": "14812284223402771045"
     }
    },
    "outputId": "efe11290-87e3-4ea1-d59d-dfe18e275ba9",
    "pycharm": {
     "name": "#%%\n"
    }
   },
   "execution_count": 8,
   "outputs": [
    {
     "output_type": "stream",
     "name": "stdout",
     "text": [
      "Collecting rasterio\n",
      "  Downloading rasterio-1.3.8-cp310-cp310-manylinux_2_17_x86_64.manylinux2014_x86_64.whl (21.3 MB)\n",
      "\u001B[2K     \u001B[90m━━━━━━━━━━━━━━━━━━━━━━━━━━━━━━━━━━━━━━━━\u001B[0m \u001B[32m21.3/21.3 MB\u001B[0m \u001B[31m35.2 MB/s\u001B[0m eta \u001B[36m0:00:00\u001B[0m\n",
      "\u001B[?25hCollecting affine (from rasterio)\n",
      "  Downloading affine-2.4.0-py3-none-any.whl (15 kB)\n",
      "Requirement already satisfied: attrs in /usr/local/lib/python3.10/dist-packages (from rasterio) (23.1.0)\n",
      "Requirement already satisfied: certifi in /usr/local/lib/python3.10/dist-packages (from rasterio) (2023.7.22)\n",
      "Requirement already satisfied: click>=4.0 in /usr/local/lib/python3.10/dist-packages (from rasterio) (8.1.7)\n",
      "Requirement already satisfied: cligj>=0.5 in /usr/local/lib/python3.10/dist-packages (from rasterio) (0.7.2)\n",
      "Requirement already satisfied: numpy>=1.18 in /usr/local/lib/python3.10/dist-packages (from rasterio) (1.23.5)\n",
      "Collecting snuggs>=1.4.1 (from rasterio)\n",
      "  Downloading snuggs-1.4.7-py3-none-any.whl (5.4 kB)\n",
      "Requirement already satisfied: click-plugins in /usr/local/lib/python3.10/dist-packages (from rasterio) (1.1.1)\n",
      "Requirement already satisfied: setuptools in /usr/local/lib/python3.10/dist-packages (from rasterio) (67.7.2)\n",
      "Requirement already satisfied: pyparsing>=2.1.6 in /usr/local/lib/python3.10/dist-packages (from snuggs>=1.4.1->rasterio) (3.1.1)\n",
      "Installing collected packages: snuggs, affine, rasterio\n",
      "Successfully installed affine-2.4.0 rasterio-1.3.8 snuggs-1.4.7\n"
     ]
    }
   ]
  },
  {
   "cell_type": "code",
   "source": [
    "import rasterio\n",
    "\n",
    "dataset = rasterio.open('/content/sample_data/FAA_UTM18N_NAD83.tif')\n",
    "print(dataset.bounds)\n",
    "\n",
    "print(dataset.count)\n",
    "img = dataset.read(1)\n",
    "\n",
    "print(type(dataset))\n",
    "print(type(img))\n",
    "print(img.shape)\n"
   ],
   "metadata": {
    "colab": {
     "base_uri": "https://localhost:8080/"
    },
    "id": "V7k4h-0Mg3VV",
    "executionInfo": {
     "status": "ok",
     "timestamp": 1694816861767,
     "user_tz": 180,
     "elapsed": 522,
     "user": {
      "displayName": "Juan Bajo",
      "userId": "14812284223402771045"
     }
    },
    "outputId": "b9740bfb-1c7f-49ee-accc-b37d81a9b8dd",
    "pycharm": {
     "name": "#%%\n"
    }
   },
   "execution_count": 9,
   "outputs": [
    {
     "output_type": "stream",
     "name": "stdout",
     "text": [
      "BoundingBox(left=223586.23651964564, bottom=4184720.1300687897, right=259261.49928124566, top=4217906.977453323)\n",
      "3\n",
      "<class 'rasterio.io.DatasetReader'>\n",
      "<class 'numpy.ndarray'>\n",
      "(1387, 1491)\n"
     ]
    }
   ]
  }
 ]
}